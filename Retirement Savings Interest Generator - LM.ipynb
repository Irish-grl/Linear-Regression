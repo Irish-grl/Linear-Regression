{
 "cells": [
  {
   "cell_type": "markdown",
   "id": "5dabbfc5",
   "metadata": {},
   "source": [
    "# Introduction to scikit-learn"
   ]
  },
  {
   "cell_type": "code",
   "execution_count": 1,
   "id": "ce864c62",
   "metadata": {},
   "outputs": [],
   "source": [
    "# 0. End to end scikit learn workflow\n",
    "# 1. Getting the data ready\n",
    "# 2. Choose the right algorithm/estimator\n",
    "# 3. Fit the model/algorithm and use it to make predictions on data\n",
    "# 4. Evaluating a model\n",
    "# 5. Improve a model\n",
    "# 6. Save and load a trained model\n",
    "# 7. Putting it all together"
   ]
  },
  {
   "cell_type": "markdown",
   "id": "6436156e",
   "metadata": {},
   "source": [
    "# 0. An End to End scikit learn workflow"
   ]
  },
  {
   "cell_type": "markdown",
   "id": "0d8ff563",
   "metadata": {},
   "source": [
    "# 1. Get the data ready"
   ]
  },
  {
   "cell_type": "code",
   "execution_count": 1,
   "id": "bc899a90",
   "metadata": {},
   "outputs": [],
   "source": [
    "#import Pandas, NumPy, and Matplotlib libraries\n",
    "import pandas as pd\n",
    "import numpy as np\n",
    "import matplotlib.pyplot as plt\n",
    "import seaborn as sbn\n",
    "\n",
    "#Import data file\n",
    "df = pd.read_csv(r'C:\\Users\\jesst\\OneDrive\\Desktop\\Capstone\\2022 pers QBE.csv')"
   ]
  },
  {
   "cell_type": "code",
   "execution_count": 2,
   "id": "2c211a46",
   "metadata": {},
   "outputs": [
    {
     "name": "stdout",
     "output_type": "stream",
     "text": [
      "<class 'pandas.core.frame.DataFrame'>\n",
      "RangeIndex: 1593 entries, 0 to 1592\n",
      "Data columns (total 3 columns):\n",
      " #   Column                     Non-Null Count  Dtype \n",
      "---  ------                     --------------  ----- \n",
      " 0   Calc YR Salary             1593 non-null   object\n",
      " 1   Yearly PERS Contributions  1593 non-null   object\n",
      " 2   Age                        1593 non-null   int64 \n",
      "dtypes: int64(1), object(2)\n",
      "memory usage: 37.5+ KB\n"
     ]
    }
   ],
   "source": [
    "#Check the data\n",
    "df.info()"
   ]
  },
  {
   "cell_type": "code",
   "execution_count": 3,
   "id": "24b2ac09",
   "metadata": {},
   "outputs": [
    {
     "data": {
      "text/plain": [
       "Calc YR Salary               0\n",
       "Yearly PERS Contributions    0\n",
       "Age                          0\n",
       "dtype: int64"
      ]
     },
     "execution_count": 3,
     "metadata": {},
     "output_type": "execute_result"
    }
   ],
   "source": [
    "#Check data to see how many tuples in 'age' have a null value\n",
    "df.isna().sum()"
   ]
  },
  {
   "cell_type": "code",
   "execution_count": 4,
   "id": "5a8edbae",
   "metadata": {},
   "outputs": [
    {
     "data": {
      "text/html": [
       "<div>\n",
       "<style scoped>\n",
       "    .dataframe tbody tr th:only-of-type {\n",
       "        vertical-align: middle;\n",
       "    }\n",
       "\n",
       "    .dataframe tbody tr th {\n",
       "        vertical-align: top;\n",
       "    }\n",
       "\n",
       "    .dataframe thead th {\n",
       "        text-align: right;\n",
       "    }\n",
       "</style>\n",
       "<table border=\"1\" class=\"dataframe\">\n",
       "  <thead>\n",
       "    <tr style=\"text-align: right;\">\n",
       "      <th></th>\n",
       "      <th>Age</th>\n",
       "      <th>Calc YR Salary</th>\n",
       "      <th>Yearly PERS Contributions</th>\n",
       "    </tr>\n",
       "  </thead>\n",
       "  <tbody>\n",
       "    <tr>\n",
       "      <th>0</th>\n",
       "      <td>36.0</td>\n",
       "      <td>131820.43</td>\n",
       "      <td>40836.16</td>\n",
       "    </tr>\n",
       "    <tr>\n",
       "      <th>1</th>\n",
       "      <td>18.0</td>\n",
       "      <td>70699.09</td>\n",
       "      <td>21899.79</td>\n",
       "    </tr>\n",
       "    <tr>\n",
       "      <th>2</th>\n",
       "      <td>26.0</td>\n",
       "      <td>119490.28</td>\n",
       "      <td>37012.20</td>\n",
       "    </tr>\n",
       "    <tr>\n",
       "      <th>3</th>\n",
       "      <td>38.0</td>\n",
       "      <td>126717.01</td>\n",
       "      <td>39203.57</td>\n",
       "    </tr>\n",
       "    <tr>\n",
       "      <th>4</th>\n",
       "      <td>61.0</td>\n",
       "      <td>125525.01</td>\n",
       "      <td>38790.15</td>\n",
       "    </tr>\n",
       "    <tr>\n",
       "      <th>...</th>\n",
       "      <td>...</td>\n",
       "      <td>...</td>\n",
       "      <td>...</td>\n",
       "    </tr>\n",
       "    <tr>\n",
       "      <th>1588</th>\n",
       "      <td>45.0</td>\n",
       "      <td>95706.78</td>\n",
       "      <td>19314.91</td>\n",
       "    </tr>\n",
       "    <tr>\n",
       "      <th>1589</th>\n",
       "      <td>33.0</td>\n",
       "      <td>144430.63</td>\n",
       "      <td>29134.32</td>\n",
       "    </tr>\n",
       "    <tr>\n",
       "      <th>1590</th>\n",
       "      <td>21.0</td>\n",
       "      <td>67457.92</td>\n",
       "      <td>13605.85</td>\n",
       "    </tr>\n",
       "    <tr>\n",
       "      <th>1591</th>\n",
       "      <td>66.0</td>\n",
       "      <td>115059.22</td>\n",
       "      <td>23108.91</td>\n",
       "    </tr>\n",
       "    <tr>\n",
       "      <th>1592</th>\n",
       "      <td>53.0</td>\n",
       "      <td>87791.19</td>\n",
       "      <td>17602.54</td>\n",
       "    </tr>\n",
       "  </tbody>\n",
       "</table>\n",
       "<p>1593 rows × 3 columns</p>\n",
       "</div>"
      ],
      "text/plain": [
       "       Age  Calc YR Salary  Yearly PERS Contributions\n",
       "0     36.0       131820.43                   40836.16\n",
       "1     18.0        70699.09                   21899.79\n",
       "2     26.0       119490.28                   37012.20\n",
       "3     38.0       126717.01                   39203.57\n",
       "4     61.0       125525.01                   38790.15\n",
       "...    ...             ...                        ...\n",
       "1588  45.0        95706.78                   19314.91\n",
       "1589  33.0       144430.63                   29134.32\n",
       "1590  21.0        67457.92                   13605.85\n",
       "1591  66.0       115059.22                   23108.91\n",
       "1592  53.0        87791.19                   17602.54\n",
       "\n",
       "[1593 rows x 3 columns]"
      ]
     },
     "execution_count": 4,
     "metadata": {},
     "output_type": "execute_result"
    }
   ],
   "source": [
    "#Convert data in columns from string to float\n",
    "cleaned_data = (df[['Age', 'Calc YR Salary', 'Yearly PERS Contributions']].replace( '[\\$,) ]+','',regex=True ).replace( '[(]','-',regex=True ).replace( '0.00', regex=True ).astype(float))\n",
    "cleaned_data"
   ]
  },
  {
   "cell_type": "code",
   "execution_count": 5,
   "id": "80681d6a",
   "metadata": {},
   "outputs": [],
   "source": [
    "age = cleaned_data.loc[:, 'Age'].values\n",
    "yr_salary = cleaned_data.loc[:, 'Calc YR Salary'].values\n",
    "pers_contributions = cleaned_data.loc[:, 'Yearly PERS Contributions'].values"
   ]
  },
  {
   "cell_type": "code",
   "execution_count": 6,
   "id": "540724aa",
   "metadata": {},
   "outputs": [
    {
     "data": {
      "text/plain": [
       "<matplotlib.collections.PathCollection at 0x21f614428b0>"
      ]
     },
     "execution_count": 6,
     "metadata": {},
     "output_type": "execute_result"
    },
    {
     "data": {
      "image/png": "[encoded data removed]",
      "text/plain": [
       "<Figure size 432x288 with 1 Axes>"
      ]
     },
     "metadata": {
      "needs_background": "light"
     },
     "output_type": "display_data"
    }
   ],
   "source": [
    "plt.scatter(yr_salary, pers_contributions)"
   ]
  },
  {
   "cell_type": "code",
   "execution_count": 7,
   "id": "9ef32482",
   "metadata": {},
   "outputs": [
    {
     "data": {
      "text/plain": [
       "<matplotlib.collections.PathCollection at 0x21f61be9a90>"
      ]
     },
     "execution_count": 7,
     "metadata": {},
     "output_type": "execute_result"
    },
    {
     "data": {
      "image/png": "[encoded data removed]",
      "text/plain": [
       "<Figure size 432x288 with 1 Axes>"
      ]
     },
     "metadata": {
      "needs_background": "light"
     },
     "output_type": "display_data"
    }
   ],
   "source": [
    "plt.scatter(age, pers_contributions)"
   ]
  },
  {
   "cell_type": "code",
   "execution_count": 8,
   "id": "65ea6042",
   "metadata": {},
   "outputs": [
    {
     "data": {
      "text/plain": [
       "<AxesSubplot:>"
      ]
     },
     "execution_count": 8,
     "metadata": {},
     "output_type": "execute_result"
    },
    {
     "data": {
      "image/png": "[encoded data removed]",
      "text/plain": [
       "<Figure size 576x396 with 1 Axes>"
      ]
     },
     "metadata": {},
     "output_type": "display_data"
    }
   ],
   "source": [
    "plt.style.use('seaborn')\n",
    "cleaned_data['Calc YR Salary'].hist(edgecolor = 'black')"
   ]
  },
  {
   "cell_type": "code",
   "execution_count": 9,
   "id": "4c8d8c3c",
   "metadata": {},
   "outputs": [
    {
     "data": {
      "text/plain": [
       "<AxesSubplot:>"
      ]
     },
     "execution_count": 9,
     "metadata": {},
     "output_type": "execute_result"
    },
    {
     "data": {
      "image/png": "[encoded data removed]",
      "text/plain": [
       "<Figure size 576x396 with 1 Axes>"
      ]
     },
     "metadata": {},
     "output_type": "display_data"
    }
   ],
   "source": [
    "cleaned_data['Yearly PERS Contributions'].hist(edgecolor = 'black')"
   ]
  },
  {
   "cell_type": "code",
   "execution_count": 10,
   "id": "1d8ce6d9",
   "metadata": {},
   "outputs": [],
   "source": [
    "#Import the TrainTestSplit class and the OneHotEncoder class\n",
    "from sklearn.model_selection import train_test_split as tts\n",
    "\n",
    "#Split the data into X and y sets(X = features, y = labels)\n",
    "X = cleaned_data.drop(\"Yearly PERS Contributions\", axis=1)\n",
    "y = cleaned_data[\"Yearly PERS Contributions\"]\n",
    "\n",
    "#Split the data into test and training sets\n",
    "X_train, X_test, y_train, y_test = tts(X, y, test_size = 0.2)"
   ]
  },
  {
   "cell_type": "markdown",
   "id": "d34bb5db",
   "metadata": {},
   "source": [
    "# 2. Choose the right algorithm"
   ]
  },
  {
   "cell_type": "code",
   "execution_count": 11,
   "id": "bbfb54c8",
   "metadata": {},
   "outputs": [],
   "source": [
    "#Import the RandomForestRegressor class\n",
    "from sklearn.linear_model import LinearRegression\n",
    "\n",
    "regr = LinearRegression()"
   ]
  },
  {
   "cell_type": "code",
   "execution_count": 12,
   "id": "a0509f62",
   "metadata": {},
   "outputs": [
    {
     "data": {
      "text/plain": [
       "LinearRegression()"
      ]
     },
     "execution_count": 12,
     "metadata": {},
     "output_type": "execute_result"
    }
   ],
   "source": [
    "#Fit the linear Regression model using the training data\n",
    "regr.fit(X_train, y_train)"
   ]
  },
  {
   "cell_type": "code",
   "execution_count": 13,
   "id": "519feaae",
   "metadata": {},
   "outputs": [
    {
     "data": {
      "text/plain": [
       "0.9180688020925872"
      ]
     },
     "execution_count": 13,
     "metadata": {},
     "output_type": "execute_result"
    }
   ],
   "source": [
    "#Test the RandomForestRegressor model using the test data and get the score\n",
    "regr.score(X_test, y_test)"
   ]
  },
  {
   "cell_type": "markdown",
   "id": "14b2abf2",
   "metadata": {},
   "source": [
    "# 3. Use trained model to make predictions"
   ]
  },
  {
   "cell_type": "code",
   "execution_count": 14,
   "id": "bcbc0ab5",
   "metadata": {},
   "outputs": [
    {
     "data": {
      "text/plain": [
       "array([35838.08661764, 23028.67140381, 21380.94541447, 32998.25804967,\n",
       "       23831.85883405])"
      ]
     },
     "execution_count": 14,
     "metadata": {},
     "output_type": "execute_result"
    }
   ],
   "source": [
    "#Use 'predict' on just the 'X_test' dataset to see what the model gives\n",
    "regr.predict(X_test[:5])"
   ]
  },
  {
   "cell_type": "code",
   "execution_count": 15,
   "id": "ab1faede",
   "metadata": {},
   "outputs": [
    {
     "data": {
      "text/plain": [
       "array([38970.84, 27453.69, 19109.95, 36961.15, 23655.28])"
      ]
     },
     "execution_count": 15,
     "metadata": {},
     "output_type": "execute_result"
    }
   ],
   "source": [
    "#Compare predicted amounts to the truth labels to evaluate the model\n",
    "y_preds = regr.predict(X_test)\n",
    "np.array(y_test[:5])"
   ]
  },
  {
   "cell_type": "code",
   "execution_count": 16,
   "id": "bbe889e7",
   "metadata": {},
   "outputs": [
    {
     "data": {
      "text/plain": [
       "1436.816913040011"
      ]
     },
     "execution_count": 16,
     "metadata": {},
     "output_type": "execute_result"
    }
   ],
   "source": [
    "from sklearn.metrics import mean_absolute_error\n",
    "mean_absolute_error(y_preds, y_test)"
   ]
  }
 ],
 "metadata": {
  "kernelspec": {
   "display_name": "Python 3 (ipykernel)",
   "language": "python",
   "name": "python3"
  },
  "language_info": {
   "codemirror_mode": {
    "name": "ipython",
    "version": 3
   },
   "file_extension": ".py",
   "mimetype": "text/x-python",
   "name": "python",
   "nbconvert_exporter": "python",
   "pygments_lexer": "ipython3",
   "version": "3.9.12"
  }
 },
 "nbformat": 4,
 "nbformat_minor": 5
}
